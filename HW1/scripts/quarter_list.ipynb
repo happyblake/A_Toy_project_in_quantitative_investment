{
 "cells": [
  {
   "cell_type": "code",
   "execution_count": null,
   "id": "5601b948",
   "metadata": {},
   "outputs": [],
   "source": [
    "import pandas as pd\n",
    "\n",
    "# Generate period data from 2000Q1 to 2023Q3\n",
    "periods = pd.period_range(start = \"2000Q1\", end = \"2023Q3\", freq = \"Q\")\n",
    "\n",
    "# Transform the period data into DataFrame\n",
    "quarter_list = pd.DataFrame({'date': periods})\n",
    "\n",
    "# Save it as a CSV file\n",
    "quarter_list.to_csv(r\"C:\\Users\\DELL\\Desktop\\FIN3080\\HW\\HW1\\Python_version\\raw_data\\quarter_list.csv\", index = False)"
   ]
  }
 ],
 "metadata": {
  "kernelspec": {
   "display_name": ".venv",
   "language": "python",
   "name": "python3"
  },
  "language_info": {
   "codemirror_mode": {
    "name": "ipython",
    "version": 3
   },
   "file_extension": ".py",
   "mimetype": "text/x-python",
   "name": "python",
   "nbconvert_exporter": "python",
   "pygments_lexer": "ipython3",
   "version": "3.11.5"
  }
 },
 "nbformat": 4,
 "nbformat_minor": 5
}
